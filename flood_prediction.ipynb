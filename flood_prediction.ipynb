{
  "cells": [
    {
      "cell_type": "markdown",
      "metadata": {
        "id": "NZd9ecxVHSQ2"
      },
      "source": [
        "# Flood Prediction Algorithm"
      ]
    },
    {
      "cell_type": "code",
      "execution_count": null,
      "metadata": {
        "id": "GFfHQy7qLlU3"
      },
      "outputs": [],
      "source": [
        "import pandas as pd\n",
        "from sklearn.model_selection import train_test_split\n",
        "from sklearn.preprocessing import StandardScaler\n",
        "import tensorflow as tf\n",
        "from tensorflow.keras.models import Sequential\n",
        "from tensorflow.keras.layers import Dense, Conv1D, Flatten, MaxPooling1D"
      ]
    },
    {
      "cell_type": "code",
      "execution_count": null,
      "metadata": {
        "colab": {
          "base_uri": "https://localhost:8080/",
          "height": 206
        },
        "id": "YUw7HhVUekN1",
        "outputId": "2b36e46b-c710-45ed-fcb4-834bba406151"
      },
      "outputs": [
        {
          "output_type": "execute_result",
          "data": {
            "text/plain": [
              "   TR23 0PR  \\N None \\N.1 \\N.2 \\N.3  87897    15021  49.953605  -6.352647\n",
              "0  TR23 0WA  \\N  NaN   \\N   \\N   \\N  87903  15077.0  49.954111  -6.352609\n",
              "1  TR22 0PL  \\N  NaN   \\N   \\N   \\N  88364   8478.0  49.895171  -6.340873\n",
              "2  TR24 0QE  \\N  NaN   \\N   \\N   \\N  88849  15298.0  49.956586  -6.339638\n",
              "3  TR24 0QL  \\N  NaN   \\N   \\N   \\N  88857  15392.0  49.957433  -6.339603\n",
              "4  TR24 0QB  \\N  NaN   \\N   \\N   \\N  88887  15424.0  49.957736  -6.339211"
            ],
            "text/html": [
              "\n",
              "  <div id=\"df-19c18cf2-d0a4-46c2-bcbd-ec0b90aacd28\" class=\"colab-df-container\">\n",
              "    <div>\n",
              "<style scoped>\n",
              "    .dataframe tbody tr th:only-of-type {\n",
              "        vertical-align: middle;\n",
              "    }\n",
              "\n",
              "    .dataframe tbody tr th {\n",
              "        vertical-align: top;\n",
              "    }\n",
              "\n",
              "    .dataframe thead th {\n",
              "        text-align: right;\n",
              "    }\n",
              "</style>\n",
              "<table border=\"1\" class=\"dataframe\">\n",
              "  <thead>\n",
              "    <tr style=\"text-align: right;\">\n",
              "      <th></th>\n",
              "      <th>TR23 0PR</th>\n",
              "      <th>\\N</th>\n",
              "      <th>None</th>\n",
              "      <th>\\N.1</th>\n",
              "      <th>\\N.2</th>\n",
              "      <th>\\N.3</th>\n",
              "      <th>87897</th>\n",
              "      <th>15021</th>\n",
              "      <th>49.953605</th>\n",
              "      <th>-6.352647</th>\n",
              "    </tr>\n",
              "  </thead>\n",
              "  <tbody>\n",
              "    <tr>\n",
              "      <th>0</th>\n",
              "      <td>TR23 0WA</td>\n",
              "      <td>\\N</td>\n",
              "      <td>NaN</td>\n",
              "      <td>\\N</td>\n",
              "      <td>\\N</td>\n",
              "      <td>\\N</td>\n",
              "      <td>87903</td>\n",
              "      <td>15077.0</td>\n",
              "      <td>49.954111</td>\n",
              "      <td>-6.352609</td>\n",
              "    </tr>\n",
              "    <tr>\n",
              "      <th>1</th>\n",
              "      <td>TR22 0PL</td>\n",
              "      <td>\\N</td>\n",
              "      <td>NaN</td>\n",
              "      <td>\\N</td>\n",
              "      <td>\\N</td>\n",
              "      <td>\\N</td>\n",
              "      <td>88364</td>\n",
              "      <td>8478.0</td>\n",
              "      <td>49.895171</td>\n",
              "      <td>-6.340873</td>\n",
              "    </tr>\n",
              "    <tr>\n",
              "      <th>2</th>\n",
              "      <td>TR24 0QE</td>\n",
              "      <td>\\N</td>\n",
              "      <td>NaN</td>\n",
              "      <td>\\N</td>\n",
              "      <td>\\N</td>\n",
              "      <td>\\N</td>\n",
              "      <td>88849</td>\n",
              "      <td>15298.0</td>\n",
              "      <td>49.956586</td>\n",
              "      <td>-6.339638</td>\n",
              "    </tr>\n",
              "    <tr>\n",
              "      <th>3</th>\n",
              "      <td>TR24 0QL</td>\n",
              "      <td>\\N</td>\n",
              "      <td>NaN</td>\n",
              "      <td>\\N</td>\n",
              "      <td>\\N</td>\n",
              "      <td>\\N</td>\n",
              "      <td>88857</td>\n",
              "      <td>15392.0</td>\n",
              "      <td>49.957433</td>\n",
              "      <td>-6.339603</td>\n",
              "    </tr>\n",
              "    <tr>\n",
              "      <th>4</th>\n",
              "      <td>TR24 0QB</td>\n",
              "      <td>\\N</td>\n",
              "      <td>NaN</td>\n",
              "      <td>\\N</td>\n",
              "      <td>\\N</td>\n",
              "      <td>\\N</td>\n",
              "      <td>88887</td>\n",
              "      <td>15424.0</td>\n",
              "      <td>49.957736</td>\n",
              "      <td>-6.339211</td>\n",
              "    </tr>\n",
              "  </tbody>\n",
              "</table>\n",
              "</div>\n",
              "    <div class=\"colab-df-buttons\">\n",
              "\n",
              "  <div class=\"colab-df-container\">\n",
              "    <button class=\"colab-df-convert\" onclick=\"convertToInteractive('df-19c18cf2-d0a4-46c2-bcbd-ec0b90aacd28')\"\n",
              "            title=\"Convert this dataframe to an interactive table.\"\n",
              "            style=\"display:none;\">\n",
              "\n",
              "  <svg xmlns=\"http://www.w3.org/2000/svg\" height=\"24px\" viewBox=\"0 -960 960 960\">\n",
              "    <path d=\"M120-120v-720h720v720H120Zm60-500h600v-160H180v160Zm220 220h160v-160H400v160Zm0 220h160v-160H400v160ZM180-400h160v-160H180v160Zm440 0h160v-160H620v160ZM180-180h160v-160H180v160Zm440 0h160v-160H620v160Z\"/>\n",
              "  </svg>\n",
              "    </button>\n",
              "\n",
              "  <style>\n",
              "    .colab-df-container {\n",
              "      display:flex;\n",
              "      gap: 12px;\n",
              "    }\n",
              "\n",
              "    .colab-df-convert {\n",
              "      background-color: #E8F0FE;\n",
              "      border: none;\n",
              "      border-radius: 50%;\n",
              "      cursor: pointer;\n",
              "      display: none;\n",
              "      fill: #1967D2;\n",
              "      height: 32px;\n",
              "      padding: 0 0 0 0;\n",
              "      width: 32px;\n",
              "    }\n",
              "\n",
              "    .colab-df-convert:hover {\n",
              "      background-color: #E2EBFA;\n",
              "      box-shadow: 0px 1px 2px rgba(60, 64, 67, 0.3), 0px 1px 3px 1px rgba(60, 64, 67, 0.15);\n",
              "      fill: #174EA6;\n",
              "    }\n",
              "\n",
              "    .colab-df-buttons div {\n",
              "      margin-bottom: 4px;\n",
              "    }\n",
              "\n",
              "    [theme=dark] .colab-df-convert {\n",
              "      background-color: #3B4455;\n",
              "      fill: #D2E3FC;\n",
              "    }\n",
              "\n",
              "    [theme=dark] .colab-df-convert:hover {\n",
              "      background-color: #434B5C;\n",
              "      box-shadow: 0px 1px 3px 1px rgba(0, 0, 0, 0.15);\n",
              "      filter: drop-shadow(0px 1px 2px rgba(0, 0, 0, 0.3));\n",
              "      fill: #FFFFFF;\n",
              "    }\n",
              "  </style>\n",
              "\n",
              "    <script>\n",
              "      const buttonEl =\n",
              "        document.querySelector('#df-19c18cf2-d0a4-46c2-bcbd-ec0b90aacd28 button.colab-df-convert');\n",
              "      buttonEl.style.display =\n",
              "        google.colab.kernel.accessAllowed ? 'block' : 'none';\n",
              "\n",
              "      async function convertToInteractive(key) {\n",
              "        const element = document.querySelector('#df-19c18cf2-d0a4-46c2-bcbd-ec0b90aacd28');\n",
              "        const dataTable =\n",
              "          await google.colab.kernel.invokeFunction('convertToInteractive',\n",
              "                                                    [key], {});\n",
              "        if (!dataTable) return;\n",
              "\n",
              "        const docLinkHtml = 'Like what you see? Visit the ' +\n",
              "          '<a target=\"_blank\" href=https://colab.research.google.com/notebooks/data_table.ipynb>data table notebook</a>'\n",
              "          + ' to learn more about interactive tables.';\n",
              "        element.innerHTML = '';\n",
              "        dataTable['output_type'] = 'display_data';\n",
              "        await google.colab.output.renderOutput(dataTable, element);\n",
              "        const docLink = document.createElement('div');\n",
              "        docLink.innerHTML = docLinkHtml;\n",
              "        element.appendChild(docLink);\n",
              "      }\n",
              "    </script>\n",
              "  </div>\n",
              "\n",
              "\n",
              "<div id=\"df-228bbbed-16dc-42e4-918b-e62d02be2382\">\n",
              "  <button class=\"colab-df-quickchart\" onclick=\"quickchart('df-228bbbed-16dc-42e4-918b-e62d02be2382')\"\n",
              "            title=\"Suggest charts\"\n",
              "            style=\"display:none;\">\n",
              "\n",
              "<svg xmlns=\"http://www.w3.org/2000/svg\" height=\"24px\"viewBox=\"0 0 24 24\"\n",
              "     width=\"24px\">\n",
              "    <g>\n",
              "        <path d=\"M19 3H5c-1.1 0-2 .9-2 2v14c0 1.1.9 2 2 2h14c1.1 0 2-.9 2-2V5c0-1.1-.9-2-2-2zM9 17H7v-7h2v7zm4 0h-2V7h2v10zm4 0h-2v-4h2v4z\"/>\n",
              "    </g>\n",
              "</svg>\n",
              "  </button>\n",
              "\n",
              "<style>\n",
              "  .colab-df-quickchart {\n",
              "      --bg-color: #E8F0FE;\n",
              "      --fill-color: #1967D2;\n",
              "      --hover-bg-color: #E2EBFA;\n",
              "      --hover-fill-color: #174EA6;\n",
              "      --disabled-fill-color: #AAA;\n",
              "      --disabled-bg-color: #DDD;\n",
              "  }\n",
              "\n",
              "  [theme=dark] .colab-df-quickchart {\n",
              "      --bg-color: #3B4455;\n",
              "      --fill-color: #D2E3FC;\n",
              "      --hover-bg-color: #434B5C;\n",
              "      --hover-fill-color: #FFFFFF;\n",
              "      --disabled-bg-color: #3B4455;\n",
              "      --disabled-fill-color: #666;\n",
              "  }\n",
              "\n",
              "  .colab-df-quickchart {\n",
              "    background-color: var(--bg-color);\n",
              "    border: none;\n",
              "    border-radius: 50%;\n",
              "    cursor: pointer;\n",
              "    display: none;\n",
              "    fill: var(--fill-color);\n",
              "    height: 32px;\n",
              "    padding: 0;\n",
              "    width: 32px;\n",
              "  }\n",
              "\n",
              "  .colab-df-quickchart:hover {\n",
              "    background-color: var(--hover-bg-color);\n",
              "    box-shadow: 0 1px 2px rgba(60, 64, 67, 0.3), 0 1px 3px 1px rgba(60, 64, 67, 0.15);\n",
              "    fill: var(--button-hover-fill-color);\n",
              "  }\n",
              "\n",
              "  .colab-df-quickchart-complete:disabled,\n",
              "  .colab-df-quickchart-complete:disabled:hover {\n",
              "    background-color: var(--disabled-bg-color);\n",
              "    fill: var(--disabled-fill-color);\n",
              "    box-shadow: none;\n",
              "  }\n",
              "\n",
              "  .colab-df-spinner {\n",
              "    border: 2px solid var(--fill-color);\n",
              "    border-color: transparent;\n",
              "    border-bottom-color: var(--fill-color);\n",
              "    animation:\n",
              "      spin 1s steps(1) infinite;\n",
              "  }\n",
              "\n",
              "  @keyframes spin {\n",
              "    0% {\n",
              "      border-color: transparent;\n",
              "      border-bottom-color: var(--fill-color);\n",
              "      border-left-color: var(--fill-color);\n",
              "    }\n",
              "    20% {\n",
              "      border-color: transparent;\n",
              "      border-left-color: var(--fill-color);\n",
              "      border-top-color: var(--fill-color);\n",
              "    }\n",
              "    30% {\n",
              "      border-color: transparent;\n",
              "      border-left-color: var(--fill-color);\n",
              "      border-top-color: var(--fill-color);\n",
              "      border-right-color: var(--fill-color);\n",
              "    }\n",
              "    40% {\n",
              "      border-color: transparent;\n",
              "      border-right-color: var(--fill-color);\n",
              "      border-top-color: var(--fill-color);\n",
              "    }\n",
              "    60% {\n",
              "      border-color: transparent;\n",
              "      border-right-color: var(--fill-color);\n",
              "    }\n",
              "    80% {\n",
              "      border-color: transparent;\n",
              "      border-right-color: var(--fill-color);\n",
              "      border-bottom-color: var(--fill-color);\n",
              "    }\n",
              "    90% {\n",
              "      border-color: transparent;\n",
              "      border-bottom-color: var(--fill-color);\n",
              "    }\n",
              "  }\n",
              "</style>\n",
              "\n",
              "  <script>\n",
              "    async function quickchart(key) {\n",
              "      const quickchartButtonEl =\n",
              "        document.querySelector('#' + key + ' button');\n",
              "      quickchartButtonEl.disabled = true;  // To prevent multiple clicks.\n",
              "      quickchartButtonEl.classList.add('colab-df-spinner');\n",
              "      try {\n",
              "        const charts = await google.colab.kernel.invokeFunction(\n",
              "            'suggestCharts', [key], {});\n",
              "      } catch (error) {\n",
              "        console.error('Error during call to suggestCharts:', error);\n",
              "      }\n",
              "      quickchartButtonEl.classList.remove('colab-df-spinner');\n",
              "      quickchartButtonEl.classList.add('colab-df-quickchart-complete');\n",
              "    }\n",
              "    (() => {\n",
              "      let quickchartButtonEl =\n",
              "        document.querySelector('#df-228bbbed-16dc-42e4-918b-e62d02be2382 button');\n",
              "      quickchartButtonEl.style.display =\n",
              "        google.colab.kernel.accessAllowed ? 'block' : 'none';\n",
              "    })();\n",
              "  </script>\n",
              "</div>\n",
              "\n",
              "    </div>\n",
              "  </div>\n"
            ],
            "application/vnd.google.colaboratory.intrinsic+json": {
              "type": "dataframe",
              "variable_name": "df"
            }
          },
          "metadata": {},
          "execution_count": 10
        }
      ],
      "source": [
        "file_path = '/content/open_flood_risk_by_postcode.csv'\n",
        "df = pd.read_csv(file_path)\n",
        "df.head()"
      ]
    },
    {
      "cell_type": "code",
      "execution_count": null,
      "metadata": {
        "id": "G0tciNbKP06e"
      },
      "outputs": [],
      "source": [
        "df.columns = ['postcode', 'fid', 'prob_4band', 'suitability', 'pub_date', 'risk_for_insurance_sop',\n",
        "              'easting', 'northing', 'latitude', 'longitude']\n",
        "df.fillna(method='ffill', inplace=True)\n",
        "df['risk_for_insurance_sop'] = pd.to_numeric(df['risk_for_insurance_sop'], errors='coerce').fillna(0).astype(int)\n",
        "features = df[['easting', 'northing', 'latitude', 'longitude']]\n",
        "target = df['risk_for_insurance_sop']"
      ]
    },
    {
      "cell_type": "code",
      "execution_count": null,
      "metadata": {
        "colab": {
          "base_uri": "https://localhost:8080/"
        },
        "id": "LC_45ZLQQPLs",
        "outputId": "9b0e49d9-3e04-491a-cb86-1366f41849a5"
      },
      "outputs": [
        {
          "output_type": "stream",
          "name": "stdout",
          "text": [
            "Training set shape: (123058, 4, 1), (123058,)\n",
            "Testing set shape: (30765, 4, 1), (30765,)\n"
          ]
        }
      ],
      "source": [
        "scaler = StandardScaler()\n",
        "features_scaled = scaler.fit_transform(features)\n",
        "features_scaled = features_scaled.reshape((features_scaled.shape[0], features_scaled.shape[1], 1))\n",
        "X_train, X_test, y_train, y_test = train_test_split(features_scaled, target, test_size=0.2, random_state=42)\n",
        "print(f'Training set shape: {X_train.shape}, {y_train.shape}')\n",
        "print(f'Testing set shape: {X_test.shape}, {y_test.shape}')"
      ]
    },
    {
      "cell_type": "code",
      "execution_count": null,
      "metadata": {
        "colab": {
          "base_uri": "https://localhost:8080/"
        },
        "id": "w9jBZugbP7pH",
        "outputId": "9843942b-cbff-4112-8936-c361637725c4"
      },
      "outputs": [
        {
          "output_type": "stream",
          "name": "stdout",
          "text": [
            "Epoch 1/25\n",
            "12306/12306 [==============================] - 45s 4ms/step - loss: 0.0063 - accuracy: 0.9999 - val_loss: 2.6184e-09 - val_accuracy: 1.0000\n",
            "Epoch 2/25\n",
            "12306/12306 [==============================] - 32s 3ms/step - loss: 6.3378e-10 - accuracy: 1.0000 - val_loss: 1.2702e-10 - val_accuracy: 1.0000\n",
            "Epoch 3/25\n",
            "12306/12306 [==============================] - 30s 2ms/step - loss: 6.9076e-11 - accuracy: 1.0000 - val_loss: 3.6520e-11 - val_accuracy: 1.0000\n",
            "Epoch 4/25\n",
            "12306/12306 [==============================] - 33s 3ms/step - loss: 2.7523e-11 - accuracy: 1.0000 - val_loss: 2.0032e-11 - val_accuracy: 1.0000\n",
            "Epoch 5/25\n",
            "12306/12306 [==============================] - 31s 3ms/step - loss: 1.6980e-11 - accuracy: 1.0000 - val_loss: 1.3687e-11 - val_accuracy: 1.0000\n",
            "Epoch 6/25\n",
            "12306/12306 [==============================] - 32s 3ms/step - loss: 1.2237e-11 - accuracy: 1.0000 - val_loss: 1.0353e-11 - val_accuracy: 1.0000\n",
            "Epoch 7/25\n",
            "12306/12306 [==============================] - 32s 3ms/step - loss: 9.5428e-12 - accuracy: 1.0000 - val_loss: 8.3061e-12 - val_accuracy: 1.0000\n",
            "Epoch 8/25\n",
            "12306/12306 [==============================] - 31s 3ms/step - loss: 7.8093e-12 - accuracy: 1.0000 - val_loss: 6.9247e-12 - val_accuracy: 1.0000\n",
            "Epoch 9/25\n",
            "12306/12306 [==============================] - 31s 3ms/step - loss: 6.6023e-12 - accuracy: 1.0000 - val_loss: 5.9325e-12 - val_accuracy: 1.0000\n",
            "Epoch 10/25\n",
            "12306/12306 [==============================] - 31s 3ms/step - loss: 5.7142e-12 - accuracy: 1.0000 - val_loss: 5.1853e-12 - val_accuracy: 1.0000\n",
            "Epoch 11/25\n",
            "12306/12306 [==============================] - 33s 3ms/step - loss: 5.0339e-12 - accuracy: 1.0000 - val_loss: 4.6027e-12 - val_accuracy: 1.0000\n",
            "Epoch 12/25\n",
            "12306/12306 [==============================] - 33s 3ms/step - loss: 4.4976e-12 - accuracy: 1.0000 - val_loss: 4.1371e-12 - val_accuracy: 1.0000\n",
            "Epoch 13/25\n",
            "12306/12306 [==============================] - 33s 3ms/step - loss: 4.0625e-12 - accuracy: 1.0000 - val_loss: 3.7551e-12 - val_accuracy: 1.0000\n",
            "Epoch 14/25\n",
            "12306/12306 [==============================] - 35s 3ms/step - loss: 3.7030e-12 - accuracy: 1.0000 - val_loss: 3.4368e-12 - val_accuracy: 1.0000\n",
            "Epoch 15/25\n",
            "12306/12306 [==============================] - 33s 3ms/step - loss: 3.4014e-12 - accuracy: 1.0000 - val_loss: 3.1675e-12 - val_accuracy: 1.0000\n",
            "Epoch 16/25\n",
            "12306/12306 [==============================] - 34s 3ms/step - loss: 3.1446e-12 - accuracy: 1.0000 - val_loss: 2.9375e-12 - val_accuracy: 1.0000\n",
            "Epoch 17/25\n",
            "12306/12306 [==============================] - 32s 3ms/step - loss: 2.9240e-12 - accuracy: 1.0000 - val_loss: 2.7385e-12 - val_accuracy: 1.0000\n",
            "Epoch 18/25\n",
            "12306/12306 [==============================] - 34s 3ms/step - loss: 2.7321e-12 - accuracy: 1.0000 - val_loss: 2.5647e-12 - val_accuracy: 1.0000\n",
            "Epoch 19/25\n",
            "12306/12306 [==============================] - 33s 3ms/step - loss: 2.5644e-12 - accuracy: 1.0000 - val_loss: 2.4122e-12 - val_accuracy: 1.0000\n",
            "Epoch 20/25\n",
            "12306/12306 [==============================] - 35s 3ms/step - loss: 2.4167e-12 - accuracy: 1.0000 - val_loss: 2.2780e-12 - val_accuracy: 1.0000\n",
            "Epoch 21/25\n",
            "12306/12306 [==============================] - 34s 3ms/step - loss: 2.2866e-12 - accuracy: 1.0000 - val_loss: 2.1588e-12 - val_accuracy: 1.0000\n",
            "Epoch 22/25\n",
            "12306/12306 [==============================] - 35s 3ms/step - loss: 2.1704e-12 - accuracy: 1.0000 - val_loss: 2.0529e-12 - val_accuracy: 1.0000\n",
            "Epoch 23/25\n",
            "12306/12306 [==============================] - 33s 3ms/step - loss: 2.0674e-12 - accuracy: 1.0000 - val_loss: 1.9578e-12 - val_accuracy: 1.0000\n",
            "Epoch 24/25\n",
            "12306/12306 [==============================] - 34s 3ms/step - loss: 1.9743e-12 - accuracy: 1.0000 - val_loss: 1.8723e-12 - val_accuracy: 1.0000\n",
            "Epoch 25/25\n",
            "12306/12306 [==============================] - 33s 3ms/step - loss: 1.8905e-12 - accuracy: 1.0000 - val_loss: 1.7950e-12 - val_accuracy: 1.0000\n"
          ]
        }
      ],
      "source": [
        "model = Sequential([\n",
        "    Conv1D(32, kernel_size=2, activation='relu', input_shape=(X_train.shape[1], 1)),\n",
        "    MaxPooling1D(pool_size=2),\n",
        "    Flatten(),\n",
        "    Dense(10, activation='relu'),\n",
        "    Dense(1, activation='sigmoid')\n",
        "])\n",
        "model.compile(optimizer='adam', loss='binary_crossentropy', metrics=['accuracy'])\n",
        "history = model.fit(X_train, y_train, epochs=25, batch_size=10, validation_data=(X_test, y_test))\n"
      ]
    },
    {
      "cell_type": "code",
      "source": [
        "from tabulate import tabulate\n",
        "loss, accuracy = model.evaluate(X_test, y_test)\n",
        "print(f'Test Accuracy: {accuracy:.2f}')\n",
        "y_pred = model.predict(X_test)\n",
        "y_pred_binary = (y_pred.flatten() > 0.5).astype(int)\n",
        "results = pd.DataFrame({'Actual': y_test.values, 'Predicted': y_pred_binary})\n",
        "print(tabulate(results.head(10), headers='keys', tablefmt='psql'))"
      ],
      "metadata": {
        "colab": {
          "base_uri": "https://localhost:8080/"
        },
        "id": "17G3FjBZDdJj",
        "outputId": "9b98eb83-0273-4f32-c9a8-17430c002ed6"
      },
      "execution_count": null,
      "outputs": [
        {
          "output_type": "stream",
          "name": "stdout",
          "text": [
            "962/962 [==============================] - 2s 2ms/step - loss: 1.7950e-12 - accuracy: 1.0000\n",
            "Test Accuracy: 1.00\n",
            "962/962 [==============================] - 2s 2ms/step\n",
            "+----+----------+-------------+\n",
            "|    |   Actual |   Predicted |\n",
            "|----+----------+-------------|\n",
            "|  0 |        0 |           0 |\n",
            "|  1 |        0 |           0 |\n",
            "|  2 |        0 |           0 |\n",
            "|  3 |        0 |           0 |\n",
            "|  4 |        0 |           0 |\n",
            "|  5 |        0 |           0 |\n",
            "|  6 |        0 |           0 |\n",
            "|  7 |        0 |           0 |\n",
            "|  8 |        0 |           0 |\n",
            "|  9 |        0 |           0 |\n",
            "+----+----------+-------------+\n"
          ]
        }
      ]
    },
    {
      "cell_type": "code",
      "source": [
        "import matplotlib.pyplot as plt\n",
        "plt.plot(history.history['loss'], label='train')\n",
        "plt.plot(history.history['val_loss'], label='test')\n",
        "plt.legend()\n",
        "plt.show()"
      ],
      "metadata": {
        "colab": {
          "base_uri": "https://localhost:8080/",
          "height": 430
        },
        "id": "ZnIDWQsSrMjJ",
        "outputId": "2bbc4e4d-3ed0-45e6-869a-0d27ad00b66f"
      },
      "execution_count": null,
      "outputs": [
        {
          "output_type": "display_data",
          "data": {
            "text/plain": [
              "<Figure size 640x480 with 1 Axes>"
            ],
            "image/png": "[encoded data removed]"
          },
          "metadata": {}
        }
      ]
    },
    {
      "cell_type": "code",
      "source": [
        "from tensorflow.keras.utils import plot_model\n",
        "plot_model(model, to_file='model_plot.png', show_shapes=True, show_layer_names=True)"
      ],
      "metadata": {
        "colab": {
          "base_uri": "https://localhost:8080/",
          "height": 644
        },
        "id": "DKIwWj5hGttu",
        "outputId": "87055e32-8972-489f-a563-d594b6134ab3"
      },
      "execution_count": null,
      "outputs": [
        {
          "output_type": "execute_result",
          "data": {
            "image/png": "[encoded data removed]",
            "text/plain": [
              "<IPython.core.display.Image object>"
            ]
          },
          "metadata": {},
          "execution_count": 24
        }
      ]
    },
    {
      "cell_type": "code",
      "source": [
        "import seaborn as sns\n",
        "from sklearn.metrics import confusion_matrix\n",
        "import numpy as np\n",
        "import matplotlib.pyplot as plt\n",
        "conf_mat = confusion_matrix(y_test, y_pred_binary)\n",
        "print(conf_mat.shape)\n",
        "incorrect_predictions = conf_mat.copy()\n",
        "np.fill_diagonal(incorrect_predictions, 0)\n",
        "annot = np.empty_like(conf_mat, dtype=object)\n",
        "for i in range(conf_mat.shape[0]):\n",
        "    for j in range(conf_mat.shape[1]):\n",
        "        annot[i, j] = f'{conf_mat[i, j]}\\nIncorrect: {incorrect_predictions[i, j]}'\n",
        "\n",
        "ax = sns.heatmap(conf_mat, annot=annot, fmt='', cmap='coolwarm')\n",
        "labels = ['No', 'Yes']\n",
        "\n",
        "if conf_mat.shape == (2, 2):\n",
        "    ax.set_xticklabels(labels, rotation=45)\n",
        "    ax.set_yticklabels(labels, rotation=45)\n",
        "else:\n",
        "    ax.set_xticklabels(range(conf_mat.shape[1]), rotation=45)\n",
        "    ax.set_yticklabels(range(conf_mat.shape[0]), rotation=45)\n",
        "ax.set(xlabel='Predicted', ylabel='True', title='Confusion Matrix (Neural Network)')\n",
        "plt.show()"
      ],
      "metadata": {
        "colab": {
          "base_uri": "https://localhost:8080/",
          "height": 491
        },
        "id": "sAz1nbtUUafJ",
        "outputId": "d95182a4-b00f-45e0-8078-f5463d43d2a1"
      },
      "execution_count": null,
      "outputs": [
        {
          "output_type": "stream",
          "name": "stdout",
          "text": [
            "(1, 1)\n"
          ]
        },
        {
          "output_type": "display_data",
          "data": {
            "text/plain": [
              "<Figure size 640x480 with 2 Axes>"
            ],
            "image/png": "[encoded data removed]"
          },
          "metadata": {}
        }
      ]
    },
    {
      "cell_type": "code",
      "source": [
        "model.summary()"
      ],
      "metadata": {
        "id": "oCDo1W6KupqF",
        "colab": {
          "base_uri": "https://localhost:8080/"
        },
        "outputId": "031f1f57-57f9-45dc-c6ee-fe231513a20c"
      },
      "execution_count": null,
      "outputs": [
        {
          "output_type": "stream",
          "name": "stdout",
          "text": [
            "Model: \"sequential_1\"\n",
            "_________________________________________________________________\n",
            " Layer (type)                Output Shape              Param #   \n",
            "=================================================================\n",
            " conv1d_1 (Conv1D)           (None, 3, 32)             96        \n",
            "                                                                 \n",
            " max_pooling1d_1 (MaxPoolin  (None, 1, 32)             0         \n",
            " g1D)                                                            \n",
            "                                                                 \n",
            " flatten_1 (Flatten)         (None, 32)                0         \n",
            "                                                                 \n",
            " dense_2 (Dense)             (None, 10)                330       \n",
            "                                                                 \n",
            " dense_3 (Dense)             (None, 1)                 11        \n",
            "                                                                 \n",
            "=================================================================\n",
            "Total params: 437 (1.71 KB)\n",
            "Trainable params: 437 (1.71 KB)\n",
            "Non-trainable params: 0 (0.00 Byte)\n",
            "_________________________________________________________________\n"
          ]
        }
      ]
    }
  ],
  "metadata": {
    "accelerator": "GPU",
    "colab": {
      "gpuType": "T4",
      "provenance": []
    },
    "kernelspec": {
      "display_name": "Python 3",
      "name": "python3"
    },
    "language_info": {
      "name": "python"
    }
  },
  "nbformat": 4,
  "nbformat_minor": 0
}